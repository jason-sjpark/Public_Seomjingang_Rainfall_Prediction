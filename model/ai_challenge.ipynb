{
 "cells": [
  {
   "cell_type": "code",
   "execution_count": null,
   "metadata": {
    "colab": {
     "base_uri": "https://localhost:8080/"
    },
    "id": "5XCWvCsv8dAB",
    "outputId": "67f48b08-e15d-4034-a0dc-5b2ce36e1504",
    "pycharm": {
     "name": "#%%\n"
    }
   },
   "outputs": [],
   "source": [
    "# from google.colab import drive\n",
    "# drive.mount('/content/drive')"
   ]
  },
  {
   "cell_type": "code",
   "execution_count": 1,
   "metadata": {
    "id": "5_aI5U_a8nr1",
    "pycharm": {
     "name": "#%%\n"
    }
   },
   "outputs": [],
   "source": [
    "\n",
    "# import package\n",
    "from __future__ import print_function, division\n",
    "# model\n",
    "import torch\n",
    "import torch.nn as nn\n",
    "import torch.nn.functional as F\n",
    "#from torchsummary import summary\n",
    "from torch import optim\n",
    "\n",
    "# dataset and transformation\n",
    "from torchvision import datasets\n",
    "import torchvision.transforms as transforms\n",
    "from torch.utils.data import DataLoader, Dataset\n",
    "from torchvision import models, utils\n",
    "import os\n",
    "\n",
    "# display images\n",
    "from torchvision import utils\n",
    "import matplotlib.pyplot as plt\n",
    "%matplotlib inline\n",
    "\n",
    "# utils for writing own dataset\n",
    "import time\n",
    "import copy\n",
    "\n",
    "\n",
    "import pandas as pd\n",
    "from skimage import io, transform\n",
    "import numpy as np\n",
    "\n",
    "# Ignore warnings\n",
    "import warnings\n",
    "warnings.filterwarnings(\"ignore\")\n",
    "\n",
    "plt.ion()   # interactive mode\n",
    "\n",
    "IMG_SIZE  = (224,224) # image size of efficient net"
   ]
  },
  {
   "cell_type": "markdown",
   "metadata": {
    "id": "yc4F5GMW9OkK",
    "pycharm": {
     "name": "#%% md\n"
    }
   },
   "source": [
    "# 1. 데이터셋 불러오기\n",
    "데이터셋은 torchvision 패키지에서 제공하는 STL10 dataset을 이용하겠습니다. STL10 dataset은 10개의 label을 갖으며 train dataset 5000개, test dataset 8000개로 구성됩니다."
   ]
  },
  {
   "cell_type": "markdown",
   "metadata": {
    "id": "10DyLx_7WCRQ",
    "pycharm": {
     "name": "#%% md\n"
    }
   },
   "source": [
    "WRITING CUSTOM DATASETS, DATALOADERS AND TRANSFORMS"
   ]
  },
  {
   "cell_type": "markdown",
   "metadata": {
    "id": "earuwLSiWvU0",
    "pycharm": {
     "name": "#%% md\n"
    }
   },
   "source": [
    "Reading Annotations (groud truth)"
   ]
  },
  {
   "cell_type": "code",
   "execution_count": null,
   "metadata": {
    "id": "6Fgex1RYWuW6",
    "pycharm": {
     "name": "#%%\n"
    }
   },
   "outputs": [],
   "source": [
    "# specify path to data\n",
    "path2data = 'data/train/'\n",
    "\n",
    "train_gt_data_all = pd.read_csv(path2data + 'new_train_output_seomjingang.csv')\n",
    "\n",
    "# get all timestamps\n",
    "gt_timestamps = train_gt_data_all['관측시간']\n",
    "gt_timestamps = list(dict.fromkeys(gt_timestamps)) # remove duplicates\n",
    "gt_timestamps = [gt_timestamps[i].replace('-', '').replace(' ', '') + '00' for i in range(len(gt_timestamps))]"
   ]
  },
  {
   "cell_type": "code",
   "execution_count": null,
   "metadata": {
    "id": "JtZhO1d3v734",
    "outputId": "5a45a75a-ec5b-468b-9159-ec2930f8f6bb",
    "pycharm": {
     "name": "#%%\n"
    }
   },
   "outputs": [],
   "source": [
    "print(gt_timestamps[0:5])"
   ]
  },
  {
   "cell_type": "code",
   "execution_count": null,
   "metadata": {
    "id": "cTsZ0vbchAmq",
    "pycharm": {
     "name": "#%%\n"
    }
   },
   "outputs": [],
   "source": [
    "# Get GPM, RR, TPW\n",
    "import xarray as xr\n",
    "import glob\n",
    "%matplotlib inline\n",
    "\n",
    "filenames_dict = dict() # {timestamp: [list of files]}\n",
    "\n",
    "def filter_by_timestamp(original_list, f_dict):\n",
    "    new_list = []\n",
    "    for timestamp in gt_timestamps:\n",
    "        for i in range(len(original_list)):\n",
    "            if timestamp in original_list[i]:\n",
    "                new_list.append(original_list[i])\n",
    "                if timestamp not in f_dict.keys():\n",
    "                    f_dict[timestamp] = [original_list[i]]\n",
    "                else:\n",
    "                    f_dict[timestamp].append(original_list[i])\n",
    "                break\n",
    "    return new_list\n",
    "\n",
    "def gpm_filter_by_timestamp(original_list, f_dict):\n",
    "    new_list = []\n",
    "    for timestamp in gt_timestamps:\n",
    "        for i in range(len(original_list)):\n",
    "            if timestamp[0:8] in original_list[i] and 'S'+timestamp[8:13] in original_list[i] :\n",
    "                new_list.append(original_list[i])\n",
    "                if timestamp not in f_dict.keys():\n",
    "                    f_dict[timestamp] = [original_list[i]]\n",
    "                else:\n",
    "                    f_dict[timestamp].append(original_list[i])\n",
    "                break\n",
    "    return new_list\n",
    "\n",
    "# GPM\n",
    "#!pip install rasterio\n",
    "gpm_file_list = glob.glob(\"data/train/input_nasa_gpm/*.tif\")\n",
    "# only retrive files matching the timestamp\n",
    "gpm_file_list = gpm_filter_by_timestamp(gpm_file_list, filenames_dict)\n",
    "#gpm_dset_all = [xr.open_rasterio(gpm_file_list[i]) for i in range(len(gpm_file_list))]\n",
    "#gpm_images = [gpm_dset_all[i].to_dataset('band').rename({1: 'red'}).red.values for i in range(len(gpm_file_list))]\n",
    "\n",
    "# TPW \n",
    "# get all *.nc files\n",
    "valid_max = 10000\n",
    "tpw_file_list = glob.glob(\"E:\\ai_factory\\tpw\\work*.nc\")\n",
    "tpw_file_list = filter_by_timestamp(tpw_file_list, filenames_dict)\n",
    "#tpw_dset_all = [xr.open_dataset(tpw_file_list[i]) for i in range(len(tpw_file_list))]\n",
    "#tpw_images = [tpw_dset_all[i]['TPW'].values / valid_max for i in range(len(tpw_dset_all))]\n",
    "\n",
    "# RR \n",
    "# get all *.nc files\n",
    "rr_file_list = glob.glob(\"E:\\ai_factory\\tpw\\work*.nc\")\n",
    "rr_file_list = filter_by_timestamp(rr_file_list, filenames_dict)\n",
    "#rr_dset_all = [xr.open_dataset(rr_file_list[i]) for i in range(len(rr_file_list))]\n",
    "#rr_images = [rr_dset_all[i]['RR'].values / valid_max for i in range(len(rr_dset_all))]\n",
    "\n",
    "#train_file_list_only_names = [train_file_list[i][train_file_list[i].find(\"train/\")+6:] for i in range(len(train_file_list))]\n",
    "#print(train_file_list_only_names)\n"
   ]
  },
  {
   "cell_type": "code",
   "execution_count": null,
   "metadata": {
    "id": "1B536hydMTyz",
    "scrolled": true,
    "pycharm": {
     "name": "#%%\n"
    }
   },
   "outputs": [],
   "source": [
    "# Convert to a single image\n",
    "time_image_dict = dict()\n",
    "\n",
    "IMG_SIZE  = (224, 224) # image size of efficient net\n",
    "valid_max = 100.\n",
    "scale = 10.\n",
    "train_images = []\n",
    "for k in filenames_dict.keys():\n",
    "    img_filename_list = filenames_dict[k]\n",
    "    if (len(img_filename_list) == 3):\n",
    "        gpm_img = np.array([])\n",
    "        tpw_img = np.array([])\n",
    "        rr_img = np.array([])\n",
    "        for filename in img_filename_list:\n",
    "            if 'HHR' in filename:\n",
    "                temp = xr.open_rasterio(filename).to_dataset('band').rename({1: 'red'}).red.values * 10\n",
    "                gpm_img = temp.copy()\n",
    "                gpm_img.resize(IMG_SIZE)\n",
    "            if 'tpw' in filename:\n",
    "                temp = xr.open_dataset(filename)['TPW'].values / valid_max\n",
    "                tpw_img = temp.copy()\n",
    "                tpw_img.resize(IMG_SIZE)\n",
    "            if 'rr' in filename:\n",
    "                temp = xr.open_dataset(filename)['RR'].values / valid_max\n",
    "                rr_img = temp.copy()\n",
    "                rr_img.resize(IMG_SIZE)\n",
    "        #print(\"gpm size: \", gpm_img.shape)\n",
    "        #print(\"tpw size: \", tpw_img.shape)\n",
    "        #print(\"rr size: \", rr_img.shape)\n",
    "        stacked_image = np.dstack((tpw_img, rr_img, gpm_img))\n",
    "        time_image_dict[k] = stacked_image\n",
    "        train_images.append(stacked_image)\n",
    "#print(time_image_dict.keys())"
   ]
  },
  {
   "cell_type": "code",
   "execution_count": null,
   "metadata": {
    "id": "u7mVztvoLM8b",
    "pycharm": {
     "name": "#%%\n"
    }
   },
   "outputs": [],
   "source": [
    "# Save converted files to .npy\n",
    "save_as_npy = False\n",
    "if (save_as_npy):\n",
    "    path2data = '/content/gdrive/MyDrive/data/'\n",
    "    with open(path2data + 'gpm_images.npy', 'wb') as f:\n",
    "        np.save(f, gpm_images)\n",
    "    with open(path2data + 'tpw_images.npy', 'wb') as f:\n",
    "        np.save(f, tpw_images)\n",
    "    with open(path2data + 'rr_images.npy', 'wb') as f:\n",
    "        np.save(f, rr_images)"
   ]
  },
  {
   "cell_type": "code",
   "execution_count": 2,
   "metadata": {
    "colab": {
     "base_uri": "https://localhost:8080/"
    },
    "id": "Rz_VuasSwvy0",
    "outputId": "7f880adb-68a1-4060-eb28-e4e677387a3b",
    "pycharm": {
     "name": "#%%\n"
    }
   },
   "outputs": [
    {
     "data": {
      "text/plain": [
       "dict"
      ]
     },
     "execution_count": 2,
     "metadata": {},
     "output_type": "execute_result"
    }
   ],
   "source": [
    "# load from npy\n",
    "time_image_dict = np.load('C:/Users/GomZoo/Downloads/rgb_images.npy', allow_pickle=True)\n",
    "time_image_dict = time_image_dict[()]\n",
    "type(time_image_dict)"
   ]
  },
  {
   "cell_type": "markdown",
   "metadata": {
    "id": "gl-kSa88ZE-m",
    "pycharm": {
     "name": "#%% md\n"
    }
   },
   "source": [
    "Data structure is as follows:\n",
    "image_name, 년월일시, 도통리 시강수량, 용암리 시강수량, 시산리 시강수량, 섬진강댐 시강수량, 복내리 시강수량, 주암댐 시강수량, 동가리 시강수량, 맹리 시강수량, 우산리 시강수량, 동복댐 시강수량, 봉동리 시강수량, 보성강댐 시강수량\n",
    "\n"
   ]
  },
  {
   "cell_type": "code",
   "execution_count": 3,
   "metadata": {
    "id": "0qKa5QQrbzoo",
    "pycharm": {
     "name": "#%%\n"
    }
   },
   "outputs": [],
   "source": [
    "class SeomjingangDataset(Dataset):\n",
    "    \"\"\"Seomjingang dataset.\"\"\"\n",
    "\n",
    "    def __init__(self, csv_file, root_dir, time_image_dict, transform=None):\n",
    "        \"\"\"\n",
    "        Converts csv data into N x 12 (no of observatories) ordered by time with image names added\n",
    "        Args:\n",
    "            csv_file (string): Path to the csv file with annotations.\n",
    "            root_dir (string): Directory with all the images.\n",
    "            n (int): Number of data entries to use.\n",
    "            image_names (list): List of file names (timestamps) that will be added to the ground truth data\n",
    "            transform (callable, optional): Optional transform to be applied\n",
    "                on a sample.\n",
    "        \"\"\"\n",
    "        self.train_gt_data_all = pd.read_csv(root_dir + \"/\" + csv_file)\n",
    "        #self.train_gt_data = train_gt_data_all.head(n)\n",
    "        print(\"image_dict length\", len(time_image_dict.keys()))\n",
    "        self.train_data = self.train_gt_data_all.pivot(index=\"관측시간\", columns=\"관측소명\", values=\"시강수량\")\n",
    "        print(\"image_dict length\", len(self.train_data))\n",
    "        self.train_data = self.train_data.head(len(time_image_dict.keys()))\n",
    "        self.train_data.insert(0, \"image_name\", time_image_dict.keys())\n",
    "        self.root_dir = root_dir\n",
    "        self.time_image_dict = time_image_dict\n",
    "        self.transform = transform\n",
    "\n",
    "    def __len__(self):\n",
    "        return len(self.train_data)\n",
    "\n",
    "    def __getitem__(self, idx):\n",
    "        if torch.is_tensor(idx):\n",
    "            idx = idx.tolist()\n",
    "        \n",
    "        image_name = self.train_data.iloc[idx, 0]\n",
    "        tpw_image = self.time_image_dict[image_name]\n",
    "        tpws = self.train_data.iloc[idx, 1:]\n",
    "        tpws = np.array([tpws])\n",
    "        tpws = tpws.astype('float')\n",
    "        sample = {'image': tpw_image, 'hourly_rainfall': tpws}\n",
    "\n",
    "        if self.transform:\n",
    "            sample = self.transform(sample)\n",
    "\n",
    "        return sample\n",
    "        \n",
    "    def convertNC2img(self, nc_file_name):\n",
    "        max_tpw = 10000 # 10000 is the max_tpw\n",
    "        #nc_files_all = [xr.open_dataset(self.root_dir + nc_file_list[i]) for i in range(len(nc_file_list))]\n",
    "        #tpw_images = [nc_files_all[i]['TPW'].values / max_tpw for i in range(len(nc_file_list))] \n",
    "        nc_file = xr.open_dataset(self.root_dir + \"/\" + nc_file_name)\n",
    "        tpw_image = nc_file['TPW'].values / max_tpw \n",
    "        return tpw_image\n"
   ]
  },
  {
   "cell_type": "code",
   "execution_count": 4,
   "metadata": {
    "colab": {
     "base_uri": "https://localhost:8080/",
     "height": 602
    },
    "id": "afBs5mmHoM9Z",
    "outputId": "0965c5f7-d34f-4780-8d51-046d30d42b21",
    "pycharm": {
     "name": "#%%\n"
    }
   },
   "outputs": [
    {
     "name": "stdout",
     "output_type": "stream",
     "text": [
      "image_dict length 11498\n",
      "image_dict length 11664\n",
      "image_dict length 11498\n",
      "image_dict length 11664\n",
      "<__main__.SeomjingangDataset object at 0x0000012DD7EBCB00>\n",
      "0 (224, 224, 3) (1, 12)\n"
     ]
    },
    {
     "data": {
      "image/png": "[encoded data removed]",
      "text/plain": [
       "<Figure size 432x288 with 1 Axes>"
      ]
     },
     "metadata": {
      "needs_background": "light"
     },
     "output_type": "display_data"
    },
    {
     "name": "stdout",
     "output_type": "stream",
     "text": [
      "1 (224, 224, 3) (1, 12)\n"
     ]
    },
    {
     "data": {
      "image/png": "[encoded data removed]",
      "text/plain": [
       "<Figure size 432x288 with 1 Axes>"
      ]
     },
     "metadata": {
      "needs_background": "light"
     },
     "output_type": "display_data"
    },
    {
     "name": "stdout",
     "output_type": "stream",
     "text": [
      "2 (224, 224, 3) (1, 12)\n"
     ]
    },
    {
     "data": {
      "image/png": "[encoded data removed]",
      "text/plain": [
       "<Figure size 432x288 with 1 Axes>"
      ]
     },
     "metadata": {
      "needs_background": "light"
     },
     "output_type": "display_data"
    },
    {
     "name": "stdout",
     "output_type": "stream",
     "text": [
      "3 (224, 224, 3) (1, 12)\n"
     ]
    },
    {
     "data": {
      "image/png": "[encoded data removed]",
      "text/plain": [
       "<Figure size 432x288 with 1 Axes>"
      ]
     },
     "metadata": {
      "needs_background": "light"
     },
     "output_type": "display_data"
    }
   ],
   "source": [
    "\n",
    "sjg_train_dataset = SeomjingangDataset(csv_file='new_train_output_seomjingang.csv',\n",
    "                                 root_dir='data/train/',\n",
    "                                 time_image_dict = time_image_dict)\n",
    "sjg_val_dataset = SeomjingangDataset(csv_file='new_train_output_seomjingang.csv',\n",
    "                                 root_dir='data/train/',\n",
    "                                 time_image_dict = time_image_dict)\n",
    "\n",
    "# check dataset\n",
    "fig = plt.figure()\n",
    "\n",
    "def show_tpw(image):\n",
    "    \"\"\"Show image tpw\"\"\"\n",
    "    plt.imshow(image)\n",
    "    plt.pause(0.001)  # pause a bit so that plots are updated\n",
    "\n",
    "print(sjg_train_dataset)\n",
    "for i in range(len(sjg_train_dataset)):\n",
    "    sample = sjg_train_dataset[i]\n",
    "\n",
    "    print(i, sample['image'].shape, sample['hourly_rainfall'].shape)\n",
    "\n",
    "    ax = plt.subplot(1, 4, i + 1)\n",
    "    plt.tight_layout()\n",
    "    ax.set_title('Sample #{}'.format(i))\n",
    "    ax.axis('off')\n",
    "    show_tpw(sample['image'])\n",
    "\n",
    "    if i == 3:\n",
    "        plt.show()\n",
    "        break"
   ]
  },
  {
   "cell_type": "code",
   "execution_count": 5,
   "metadata": {
    "id": "edZgyw5PsW4j",
    "pycharm": {
     "name": "#%%\n"
    }
   },
   "outputs": [],
   "source": [
    "# Transform image to make it fit to efficientNet\n",
    "class Rescale(object):\n",
    "    \"\"\"Rescale the image in a sample to a given size.\n",
    "\n",
    "    Args:\n",
    "        output_size (tuple or int): Desired output size. If tuple, output is\n",
    "            matched to output_size. If int, smaller of image edges is matched\n",
    "            to output_size keeping aspect ratio the same.\n",
    "    \"\"\"\n",
    "\n",
    "    def __init__(self, output_size):\n",
    "        assert isinstance(output_size, (int, tuple))\n",
    "        self.output_size = output_size\n",
    "\n",
    "    def __call__(self, sample):\n",
    "        image, tpws = sample['image'], sample['hourly_rainfall']\n",
    "\n",
    "        h, w = image.shape[:2]\n",
    "        if isinstance(self.output_size, int):\n",
    "            if h > w:\n",
    "                new_h, new_w = self.output_size * h / w, self.output_size\n",
    "            else:\n",
    "                new_h, new_w = self.output_size, self.output_size * w / h\n",
    "        else:\n",
    "            new_h, new_w = self.output_size\n",
    "\n",
    "        new_h, new_w = int(new_h), int(new_w)\n",
    "\n",
    "        img = transform.resize(image, (new_h, new_w))\n",
    "\n",
    "        return {'image': img, 'hourly_rainfall': tpws}\n",
    "\n",
    "class ToTensor(object):\n",
    "    \"\"\"Convert ndarrays in sample to Tensors.\"\"\"\n",
    "\n",
    "    def __call__(self, sample):\n",
    "        image, tpws = sample['image'], sample['hourly_rainfall']\n",
    "\n",
    "        # swap color axis because\n",
    "        # numpy image: H x W x C\n",
    "        # torch image: C x H x W\n",
    "        image = image.transpose((2, 0, 1))\n",
    "        return {'image': torch.from_numpy(image),\n",
    "                'hourly_rainfall': torch.from_numpy(tpws)}"
   ]
  },
  {
   "cell_type": "code",
   "execution_count": 6,
   "metadata": {
    "colab": {
     "base_uri": "https://localhost:8080/"
    },
    "id": "nT8rzJ4L_oSl",
    "outputId": "d26c4d65-4606-4a9c-81f7-20fea43cc67a",
    "pycharm": {
     "name": "#%%\n"
    }
   },
   "outputs": [
    {
     "name": "stdout",
     "output_type": "stream",
     "text": [
      "image_dict length 11498\n",
      "image_dict length 11664\n",
      "image_dict length 11498\n",
      "image_dict length 11664\n",
      "0 torch.Size([3, 224, 224]) torch.Size([1, 12])\n",
      "1 torch.Size([3, 224, 224]) torch.Size([1, 12])\n",
      "2 torch.Size([3, 224, 224]) torch.Size([1, 12])\n",
      "3 torch.Size([3, 224, 224]) torch.Size([1, 12])\n"
     ]
    }
   ],
   "source": [
    "\n",
    "sjg_train_dataset = SeomjingangDataset(csv_file='new_train_output_seomjingang.csv',\n",
    "                                 root_dir='data/train/',\n",
    "                                 time_image_dict = time_image_dict,\n",
    "                                 transform=transforms.Compose([\n",
    "                                               Rescale(224),\n",
    "                                               ToTensor()\n",
    "                                           ]))\n",
    "sjg_val_dataset = SeomjingangDataset(csv_file='new_train_output_seomjingang.csv',\n",
    "                                 root_dir='data/train/',\n",
    "                                 time_image_dict = time_image_dict,\n",
    "                                 transform=transforms.Compose([\n",
    "                                               Rescale(224),\n",
    "                                               ToTensor()\n",
    "                                           ]))\n",
    "for i in range(len(sjg_train_dataset)):\n",
    "    sample = sjg_train_dataset[i]\n",
    "\n",
    "    print(i, sample['image'].size(), sample['hourly_rainfall'].size())\n",
    "\n",
    "    if i == 3:\n",
    "        break"
   ]
  },
  {
   "cell_type": "code",
   "execution_count": 10,
   "metadata": {
    "id": "U_WPXoAcU8ac",
    "pycharm": {
     "name": "#%%\n"
    }
   },
   "outputs": [],
   "source": [
    "# load dataset\n",
    "#torch.cuda.empty_cache()\n",
    "N = len(sjg_train_dataset)\n",
    "N_split = int(N * 0.7)\n",
    "\n",
    "# Random split\n",
    "train_set_size = int(len(sjg_train_dataset) * 0.7)\n",
    "valid_set_size = len(sjg_train_dataset) - train_set_size\n",
    "indices = list(range(N))\n",
    "\n",
    "train_idx, valid_idx = indices[:train_set_size], indices[train_set_size:]\n",
    "train_set = torch.utils.data.Subset(sjg_train_dataset, train_idx)\n",
    "valid_set = torch.utils.data.Subset(sjg_train_dataset, valid_idx)\n",
    "\n",
    "# make dataloader\n",
    "train_dl = DataLoader(train_set, batch_size=16, shuffle=True)\n",
    "val_dl = DataLoader(valid_set, batch_size=16, shuffle=True)"
   ]
  },
  {
   "cell_type": "markdown",
   "metadata": {
    "id": "NSpYOxOH9TVt",
    "pycharm": {
     "name": "#%% md\n"
    }
   },
   "source": [
    "# 2. 모델 구축하기\n",
    "코드는 https://github.com/zsef123/EfficientNets-PyTorch/blob/master/models/effnet.py 를 참고했습니다.\n",
    "\n",
    "https://github.com/katsura-jp/efficientnet-pytorch/blob/master/model/efficientnet.py"
   ]
  },
  {
   "cell_type": "code",
   "execution_count": 11,
   "metadata": {
    "colab": {
     "base_uri": "https://localhost:8080/"
    },
    "id": "PjJoT-8v9g9P",
    "outputId": "81b18417-dbf7-44fb-82e1-8c9e3e794bc2",
    "pycharm": {
     "name": "#%%\n"
    }
   },
   "outputs": [
    {
     "name": "stdout",
     "output_type": "stream",
     "text": [
      "output size: torch.Size([3, 3, 224, 224])\n"
     ]
    }
   ],
   "source": [
    "# Swish activation function\n",
    "class Swish(nn.Module):\n",
    "    def __init__(self):\n",
    "        super().__init__()\n",
    "        self.sigmoid = nn.Sigmoid()\n",
    "\n",
    "    def forward(self, x):\n",
    "        return x * self.sigmoid(x)\n",
    "\n",
    "# check\n",
    "if __name__ == '__main__':\n",
    "    x = torch.randn(3, 3, 224, 224)\n",
    "    model = Swish()\n",
    "    output = model(x)\n",
    "    print('output size:', output.size())"
   ]
  },
  {
   "cell_type": "code",
   "execution_count": 12,
   "metadata": {
    "colab": {
     "base_uri": "https://localhost:8080/"
    },
    "id": "uixhxPQ6GpT4",
    "outputId": "7a6f4540-0630-4971-9131-0e630e4b7c50",
    "pycharm": {
     "name": "#%%\n"
    }
   },
   "outputs": [
    {
     "name": "stdout",
     "output_type": "stream",
     "text": [
      "output size: torch.Size([3, 56, 1, 1])\n"
     ]
    }
   ],
   "source": [
    "# SE Block\n",
    "class SEBlock(nn.Module):\n",
    "    def __init__(self, in_channels, r=4):\n",
    "        super().__init__()\n",
    "\n",
    "        self.squeeze = nn.AdaptiveAvgPool2d((1,1))\n",
    "        self.excitation = nn.Sequential(\n",
    "            nn.Linear(in_channels, in_channels * r),\n",
    "            Swish(),\n",
    "            nn.Linear(in_channels * r, in_channels),\n",
    "            nn.Sigmoid()\n",
    "        )\n",
    "\n",
    "    def forward(self, x):\n",
    "        x = self.squeeze(x)\n",
    "        x = x.view(x.size(0), -1)\n",
    "        x = self.excitation(x)\n",
    "        x = x.view(x.size(0), x.size(1), 1, 1)\n",
    "        return x\n",
    "\n",
    "# check\n",
    "if __name__ == '__main__':\n",
    "    x = torch.randn(3, 56, 17, 17)\n",
    "    model = SEBlock(x.size(1))\n",
    "    output = model(x)\n",
    "    print('output size:', output.size())"
   ]
  },
  {
   "cell_type": "code",
   "execution_count": 13,
   "metadata": {
    "colab": {
     "base_uri": "https://localhost:8080/"
    },
    "id": "2zq70pzaKVxO",
    "outputId": "b359ad36-72b7-4d59-df33-971fe228d82e",
    "pycharm": {
     "name": "#%%\n"
    }
   },
   "outputs": [
    {
     "name": "stdout",
     "output_type": "stream",
     "text": [
      "output size: torch.Size([3, 16, 24, 24]) Stochastic depth: tensor(False)\n"
     ]
    }
   ],
   "source": [
    "class MBConv(nn.Module):\n",
    "    expand = 6\n",
    "    def __init__(self, in_channels, out_channels, kernel_size, stride=1, se_scale=4, p=0.5):\n",
    "        super().__init__()\n",
    "        # first MBConv is not using stochastic depth\n",
    "        self.p = torch.tensor(p).float() if (in_channels == out_channels) else torch.tensor(1).float()\n",
    "\n",
    "        self.residual = nn.Sequential(\n",
    "            nn.Conv2d(in_channels, in_channels * MBConv.expand, 1, stride=stride, padding=0, bias=False),\n",
    "            nn.BatchNorm2d(in_channels * MBConv.expand, momentum=0.99, eps=1e-3),\n",
    "            Swish(),\n",
    "            nn.Conv2d(in_channels * MBConv.expand, in_channels * MBConv.expand, kernel_size=kernel_size,\n",
    "                      stride=1, padding=kernel_size//2, bias=False, groups=in_channels*MBConv.expand),\n",
    "            nn.BatchNorm2d(in_channels * MBConv.expand, momentum=0.99, eps=1e-3),\n",
    "            Swish()\n",
    "        )\n",
    "\n",
    "        self.se = SEBlock(in_channels * MBConv.expand, se_scale)\n",
    "\n",
    "        self.project = nn.Sequential(\n",
    "            nn.Conv2d(in_channels*MBConv.expand, out_channels, kernel_size=1, stride=1, padding=0, bias=False),\n",
    "            nn.BatchNorm2d(out_channels, momentum=0.99, eps=1e-3)\n",
    "        )\n",
    "\n",
    "        self.shortcut = (stride == 1) and (in_channels == out_channels)\n",
    "\n",
    "    def forward(self, x):\n",
    "        # stochastic depth\n",
    "        if self.training:\n",
    "            if not torch.bernoulli(self.p):\n",
    "                return x\n",
    "\n",
    "        x_shortcut = x\n",
    "        x_residual = self.residual(x)\n",
    "        x_se = self.se(x_residual)\n",
    "\n",
    "        x = x_se * x_residual\n",
    "        x = self.project(x)\n",
    "\n",
    "        if self.shortcut:\n",
    "            x= x_shortcut + x\n",
    "\n",
    "        return x\n",
    "\n",
    "# check\n",
    "if __name__ == '__main__':\n",
    "    x = torch.randn(3, 16, 24, 24)\n",
    "    model = MBConv(x.size(1), x.size(1), 3, stride=1, p=1)\n",
    "    model.train()\n",
    "    output = model(x)\n",
    "    x = (output == x)\n",
    "    print('output size:', output.size(), 'Stochastic depth:', x[1,0,0,0])\n"
   ]
  },
  {
   "cell_type": "code",
   "execution_count": 14,
   "metadata": {
    "colab": {
     "base_uri": "https://localhost:8080/"
    },
    "id": "ZbmQXf2aZ3FZ",
    "outputId": "311984e3-a973-4b73-fc41-d47e4309359b",
    "pycharm": {
     "name": "#%%\n"
    }
   },
   "outputs": [
    {
     "name": "stdout",
     "output_type": "stream",
     "text": [
      "output size: torch.Size([3, 16, 24, 24]) Stochastic depth: tensor(False)\n"
     ]
    }
   ],
   "source": [
    "class SepConv(nn.Module):\n",
    "    expand = 1\n",
    "    def __init__(self, in_channels, out_channels, kernel_size, stride=1, se_scale=4, p=0.5):\n",
    "        super().__init__()\n",
    "        # first SepConv is not using stochastic depth\n",
    "        self.p = torch.tensor(p).float() if (in_channels == out_channels) else torch.tensor(1).float()\n",
    "\n",
    "        self.residual = nn.Sequential(\n",
    "            nn.Conv2d(in_channels * SepConv.expand, in_channels * SepConv.expand, kernel_size=kernel_size,\n",
    "                      stride=1, padding=kernel_size//2, bias=False, groups=in_channels*SepConv.expand),\n",
    "            nn.BatchNorm2d(in_channels * SepConv.expand, momentum=0.99, eps=1e-3),\n",
    "            Swish()\n",
    "        )\n",
    "\n",
    "        self.se = SEBlock(in_channels * SepConv.expand, se_scale)\n",
    "\n",
    "        self.project = nn.Sequential(\n",
    "            nn.Conv2d(in_channels*SepConv.expand, out_channels, kernel_size=1, stride=1, padding=0, bias=False),\n",
    "            nn.BatchNorm2d(out_channels, momentum=0.99, eps=1e-3)\n",
    "        )\n",
    "\n",
    "        self.shortcut = (stride == 1) and (in_channels == out_channels)\n",
    "\n",
    "    def forward(self, x):\n",
    "        # stochastic depth\n",
    "        if self.training:\n",
    "            if not torch.bernoulli(self.p):\n",
    "                return x\n",
    "\n",
    "        x_shortcut = x\n",
    "        x_residual = self.residual(x)\n",
    "        x_se = self.se(x_residual)\n",
    "\n",
    "        x = x_se * x_residual\n",
    "        x = self.project(x)\n",
    "\n",
    "        if self.shortcut:\n",
    "            x= x_shortcut + x\n",
    "\n",
    "        return x\n",
    "\n",
    "# check\n",
    "if __name__ == '__main__':\n",
    "    x = torch.randn(3, 16, 24, 24)\n",
    "    model = SepConv(x.size(1), x.size(1), 3, stride=1, p=1)\n",
    "    model.train()\n",
    "    output = model(x)\n",
    "    # stochastic depth check\n",
    "    x = (output == x)\n",
    "    print('output size:', output.size(), 'Stochastic depth:', x[1,0,0,0])"
   ]
  },
  {
   "cell_type": "code",
   "execution_count": 15,
   "metadata": {
    "colab": {
     "base_uri": "https://localhost:8080/"
    },
    "id": "JxPq3eBKGGRM",
    "outputId": "2079aa57-23c8-4ad6-bb15-73289515e39d",
    "pycharm": {
     "name": "#%%\n"
    }
   },
   "outputs": [],
   "source": [
    "# class EfficientNet(nn.Module):\n",
    "#     def __init__(self, num_classes=10, width_coef=1., depth_coef=1., scale=1., dropout=0.2, se_scale=4, stochastic_depth=False, p=0.5):\n",
    "#         super().__init__()\n",
    "#         channels = [32, 16, 24, 40, 80, 112, 192, 320, 1280]\n",
    "#         repeats = [1, 2, 2, 3, 3, 4, 1]\n",
    "#         strides = [1, 2, 2, 2, 1, 2, 1]\n",
    "#         kernel_size = [3, 3, 5, 3, 5, 5, 3]\n",
    "#         depth = depth_coef\n",
    "#         width = width_coef\n",
    "\n",
    "#         channels = [int(x*width) for x in channels]\n",
    "#         repeats = [int(x*depth) for x in repeats]\n",
    "\n",
    "#         # stochastic depth\n",
    "#         if stochastic_depth:\n",
    "#             self.p = p\n",
    "#             self.step = (1 - 0.5) / (sum(repeats) - 1)\n",
    "#         else:\n",
    "#             self.p = 1\n",
    "#             self.step = 0\n",
    "\n",
    "\n",
    "#         # efficient net\n",
    "#         self.upsample = nn.Upsample(scale_factor=scale, mode='bilinear', align_corners=False)\n",
    "\n",
    "#         self.stage1 = nn.Sequential(\n",
    "#             nn.Conv2d(3, channels[0],3, stride=2, padding=1, bias=False),\n",
    "#             nn.BatchNorm2d(channels[0], momentum=0.99, eps=1e-3)\n",
    "#         )\n",
    "\n",
    "#         self.stage2 = self._make_Block(SepConv, repeats[0], channels[0], channels[1], kernel_size[0], strides[0], se_scale)\n",
    "\n",
    "#         self.stage3 = self._make_Block(MBConv, repeats[1], channels[1], channels[2], kernel_size[1], strides[1], se_scale)\n",
    "\n",
    "#         self.stage4 = self._make_Block(MBConv, repeats[2], channels[2], channels[3], kernel_size[2], strides[2], se_scale)\n",
    "\n",
    "#         self.stage5 = self._make_Block(MBConv, repeats[3], channels[3], channels[4], kernel_size[3], strides[3], se_scale)\n",
    "\n",
    "#         self.stage6 = self._make_Block(MBConv, repeats[4], channels[4], channels[5], kernel_size[4], strides[4], se_scale)\n",
    "\n",
    "#         self.stage7 = self._make_Block(MBConv, repeats[5], channels[5], channels[6], kernel_size[5], strides[5], se_scale)\n",
    "\n",
    "#         self.stage8 = self._make_Block(MBConv, repeats[6], channels[6], channels[7], kernel_size[6], strides[6], se_scale)\n",
    "\n",
    "#         self.stage9 = nn.Sequential(\n",
    "#             nn.Conv2d(channels[7], channels[8], 1, stride=1, bias=False),\n",
    "#             nn.BatchNorm2d(channels[8], momentum=0.99, eps=1e-3),\n",
    "#             Swish()\n",
    "#         ) \n",
    "\n",
    "#         self.avgpool = nn.AdaptiveAvgPool2d((1,1))\n",
    "#         self.dropout = nn.Dropout(p=dropout)\n",
    "#         #self.linear = nn.Linear(channels[8], num_classes) # TODO: change here to 1?\n",
    "#         self.linear = nn.Linear(channels[8], 12)\n",
    "\n",
    "#     def forward(self, x):\n",
    "#         x = self.upsample(x)\n",
    "#         x = self.stage1(x)\n",
    "#         x = self.stage2(x)\n",
    "#         x = self.stage3(x)\n",
    "#         x = self.stage4(x)\n",
    "#         x = self.stage5(x)\n",
    "#         x = self.stage6(x)\n",
    "#         x = self.stage7(x)\n",
    "#         x = self.stage8(x)\n",
    "#         x = self.stage9(x)\n",
    "#         x = self.avgpool(x)\n",
    "#         x = x.view(x.size(0), -1)\n",
    "#         x = self.dropout(x)\n",
    "#         x = self.linear(x)\n",
    "#         return x\n",
    "\n",
    "\n",
    "#     def _make_Block(self, block, repeats, in_channels, out_channels, kernel_size, stride, se_scale):\n",
    "#         strides = [stride] + [1] * (repeats - 1)\n",
    "#         layers = []\n",
    "#         for stride in strides:\n",
    "#             layers.append(block(in_channels, out_channels, kernel_size, stride, se_scale, self.p))\n",
    "#             in_channels = out_channels\n",
    "#             self.p -= self.step\n",
    "\n",
    "#         return nn.Sequential(*layers)\n",
    "\n",
    "\n",
    "# def efficientnet_b0(num_classes=10):\n",
    "#     return EfficientNet(num_classes=num_classes, width_coef=1.0, depth_coef=1.0, scale=1.0,dropout=0.2, se_scale=4)\n",
    "\n",
    "# def efficientnet_b1(num_classes=10):\n",
    "#     return EfficientNet(num_classes=num_classes, width_coef=1.0, depth_coef=1.1, scale=240/224, dropout=0.2, se_scale=4)\n",
    "\n",
    "# def efficientnet_b2(num_classes=10):\n",
    "#     return EfficientNet(num_classes=num_classes, width_coef=1.1, depth_coef=1.2, scale=260/224., dropout=0.3, se_scale=4)\n",
    "\n",
    "# def efficientnet_b3(num_classes=10):\n",
    "#     return EfficientNet(num_classes=num_classes, width_coef=1.2, depth_coef=1.4, scale=300/224, dropout=0.3, se_scale=4)\n",
    "\n",
    "# def efficientnet_b4(num_classes=10):\n",
    "#     return EfficientNet(num_classes=num_classes, width_coef=1.4, depth_coef=1.8, scale=380/224, dropout=0.4, se_scale=4)\n",
    "\n",
    "# def efficientnet_b5(num_classes=10):\n",
    "#     return EfficientNet(num_classes=num_classes, width_coef=1.6, depth_coef=2.2, scale=456/224, dropout=0.4, se_scale=4)\n",
    "\n",
    "# def efficientnet_b6(num_classes=10):\n",
    "#     return EfficientNet(num_classes=num_classes, width_coef=1.8, depth_coef=2.6, scale=528/224, dropout=0.5, se_scale=4)\n",
    "\n",
    "# def efficientnet_b7(num_classes=10):\n",
    "#     return EfficientNet(num_classes=num_classes, width_coef=2.0, depth_coef=3.1, scale=600/224, dropout=0.5, se_scale=4)\n",
    "\n",
    "\n",
    "# # check\n",
    "# if __name__ == '__main__':\n",
    "#     device = torch.device('cuda' if torch.cuda.is_available() else 'cpu')\n",
    "#     x = torch.randn(3, 3, 224, 224).to(device)\n",
    "#     model = efficientnet_b0().to(device)\n",
    "#     output = model(x)\n",
    "#     print('output size:', output.size())"
   ]
  },
  {
   "cell_type": "code",
   "execution_count": 16,
   "metadata": {
    "pycharm": {
     "name": "#%%\n"
    }
   },
   "outputs": [
    {
     "name": "stdout",
     "output_type": "stream",
     "text": [
      "output size: torch.Size([2, 12])\n"
     ]
    }
   ],
   "source": [
    "class EfficientNet(nn.Module):\n",
    "    def __init__(self, num_classes=10, width_coef=1., depth_coef=1., scale=1., dropout=0.2, se_scale=4, stochastic_depth=False, p=0.5):\n",
    "        super().__init__()\n",
    "        channels = [32, 16, 24, 40, 80, 112, 192, 320, 1280]\n",
    "        repeats = [1, 2, 2, 3, 3, 4, 1]\n",
    "        strides = [1, 2, 2, 2, 1, 2, 1]\n",
    "        kernel_size = [3, 3, 5, 3, 5, 5, 3]\n",
    "        depth = depth_coef\n",
    "        width = width_coef\n",
    "\n",
    "        channels = [int(x*width) for x in channels]\n",
    "        repeats = [int(x*depth) for x in repeats]\n",
    "\n",
    "        # stochastic depth\n",
    "        if stochastic_depth:\n",
    "            self.p = p\n",
    "            self.step = (1 - 0.5) / (sum(repeats) - 1)\n",
    "        else:\n",
    "            self.p = 1\n",
    "            self.step = 0\n",
    "\n",
    "\n",
    "        # efficient net\n",
    "        self.upsample = nn.Upsample(scale_factor=scale, mode='bilinear', align_corners=False)\n",
    "\n",
    "        self.stage1 = nn.Sequential(\n",
    "            nn.Conv2d(3, channels[0],3, stride=2, padding=1, bias=False),\n",
    "            nn.BatchNorm2d(channels[0], momentum=0.99, eps=1e-3)\n",
    "        )\n",
    "\n",
    "        self.stage2 = self._make_Block(SepConv, repeats[0], channels[0], channels[1], kernel_size[0], strides[0], se_scale)\n",
    "\n",
    "        self.stage3 = self._make_Block(MBConv, repeats[1], channels[1], channels[2], kernel_size[1], strides[1], se_scale)\n",
    "\n",
    "        self.stage4 = self._make_Block(MBConv, repeats[2], channels[2], channels[3], kernel_size[2], strides[2], se_scale)\n",
    "\n",
    "        self.stage5 = self._make_Block(MBConv, repeats[3], channels[3], channels[4], kernel_size[3], strides[3], se_scale)\n",
    "\n",
    "        self.stage6 = self._make_Block(MBConv, repeats[4], channels[4], channels[5], kernel_size[4], strides[4], se_scale)\n",
    "\n",
    "        self.stage7 = self._make_Block(MBConv, repeats[5], channels[5], channels[6], kernel_size[5], strides[5], se_scale)\n",
    "\n",
    "        self.stage8 = self._make_Block(MBConv, repeats[6], channels[6], channels[7], kernel_size[6], strides[6], se_scale)\n",
    "\n",
    "        self.stage9 = nn.Sequential(\n",
    "            nn.Conv2d(channels[7], channels[8], 1, stride=1, bias=False),\n",
    "            nn.BatchNorm2d(channels[8], momentum=0.99, eps=1e-3),\n",
    "            Swish()\n",
    "        )\n",
    "\n",
    "        self.avgpool = nn.AdaptiveAvgPool2d((1,1))\n",
    "        self.dropout = nn.Dropout(p=dropout)\n",
    "        #self.linear = nn.Linear(channels[8], num_classes) # TODO: change here to 1?\n",
    "        self.linear = nn.Linear(channels[8], 12)\n",
    "\n",
    "    def forward(self, x):\n",
    "        x = self.upsample(x)\n",
    "        x = self.stage1(x)\n",
    "        x = self.stage2(x)\n",
    "        x = self.stage3(x)\n",
    "        x = self.stage4(x)\n",
    "        x = self.stage5(x)\n",
    "        x = self.stage6(x)\n",
    "        x = self.stage7(x)\n",
    "        x = self.stage8(x)\n",
    "        x = self.stage9(x)\n",
    "        x = self.avgpool(x)\n",
    "        x = x.view(x.size(0), -1)\n",
    "        x = self.dropout(x)\n",
    "        x = self.linear(x)\n",
    "        x = x.unsqueeze(0)\n",
    "        return x\n",
    "\n",
    "\n",
    "    def _make_Block(self, block, repeats, in_channels, out_channels, kernel_size, stride, se_scale):\n",
    "        strides = [stride] + [1] * (repeats - 1)\n",
    "        layers = []\n",
    "        for stride in strides:\n",
    "            layers.append(block(in_channels, out_channels, kernel_size, stride, se_scale, self.p))\n",
    "            in_channels = out_channels\n",
    "            self.p -= self.step\n",
    "\n",
    "        return nn.Sequential(*layers)\n",
    "\n",
    "\n",
    "def efficientnet_b0(num_classes=10):\n",
    "    return EfficientNet(num_classes=num_classes, width_coef=1.0, depth_coef=1.0, scale=1.0,dropout=0.2, se_scale=4)\n",
    "\n",
    "def efficientnet_b1(num_classes=10):\n",
    "    return EfficientNet(num_classes=num_classes, width_coef=1.0, depth_coef=1.1, scale=240/224, dropout=0.2, se_scale=4)\n",
    "\n",
    "def efficientnet_b2(num_classes=10):\n",
    "    return EfficientNet(num_classes=num_classes, width_coef=1.1, depth_coef=1.2, scale=260/224., dropout=0.3, se_scale=4)\n",
    "\n",
    "def efficientnet_b3(num_classes=10):\n",
    "    return EfficientNet(num_classes=num_classes, width_coef=1.2, depth_coef=1.4, scale=300/224, dropout=0.3, se_scale=4)\n",
    "\n",
    "def efficientnet_b4(num_classes=10):\n",
    "    return EfficientNet(num_classes=num_classes, width_coef=1.4, depth_coef=1.8, scale=380/224, dropout=0.4, se_scale=4)\n",
    "\n",
    "def efficientnet_b5(num_classes=10):\n",
    "    return EfficientNet(num_classes=num_classes, width_coef=1.6, depth_coef=2.2, scale=456/224, dropout=0.4, se_scale=4)\n",
    "\n",
    "def efficientnet_b6(num_classes=10):\n",
    "    return EfficientNet(num_classes=num_classes, width_coef=1.8, depth_coef=2.6, scale=528/224, dropout=0.5, se_scale=4)\n",
    "\n",
    "def efficientnet_b7(num_classes=10):\n",
    "    return EfficientNet(num_classes=num_classes, width_coef=2.0, depth_coef=3.1, scale=600/224, dropout=0.5, se_scale=4)\n",
    "\n",
    "class LSTM(nn.Module):\n",
    "\n",
    "    def __init__(self, num_classes, input_size, hidden_size, num_layers):\n",
    "        super(LSTM, self).__init__()\n",
    "       \n",
    "        self.num_classes = num_classes\n",
    "        self.num_layers = num_layers\n",
    "        self.input_size = input_size\n",
    "        self.hidden_size = hidden_size\n",
    "        self.seq_length = seq_length\n",
    "       \n",
    "        self.lstm = nn.LSTM(input_size=input_size, hidden_size=hidden_size,\n",
    "                            num_layers=num_layers, batch_first=True)\n",
    "       \n",
    "        self.fc = nn.Linear(hidden_size, num_classes)\n",
    "\n",
    "    def forward(self, x):\n",
    "       \n",
    "        h_0 = Variable(torch.zeros(\n",
    "            self.num_layers, x.size(0), self.hidden_size))\n",
    "       \n",
    "        c_0 = Variable(torch.zeros(\n",
    "            self.num_layers, x.size(0), self.hidden_size))\n",
    "       \n",
    "        # Propagate input through LSTM\n",
    "        ula, (h_out, _) = self.lstm(x, (h_0, c_0))\n",
    "        h_out = h_out.view(-1, self.hidden_size)\n",
    "       \n",
    "        out = self.fc(h_out)\n",
    "       \n",
    "        return out\n",
    "\n",
    "class LSTM(nn.Module):\n",
    "    def __init__(self, num_classes, input_size, hidden_size, num_layers, seq_length):\n",
    "        super(LSTM, self).__init__()\n",
    "        self.num_classes = num_classes #number of classes\n",
    "        self.num_layers = num_layers #number of layers\n",
    "        self.input_size = input_size #input size\n",
    "        self.hidden_size = hidden_size #hidden state\n",
    "        self.seq_length = seq_length #sequence length\n",
    "       \n",
    "        self.lstm = nn.LSTM(input_size=input_size, hidden_size=hidden_size,\n",
    "                            num_layers=num_layers, batch_first=True) #lstm\n",
    "        self.fc_1 = nn.Linear(hidden_size, 128) #fully connected 1\n",
    "        self.fc = nn.Linear(128, num_classes) #fully connected last layer\n",
    "        self.relu = nn.ReLU()\n",
    "    def forward(self,x):\n",
    "        h_0 = Variable(torch.zeros(self.num_layers, x.size(0), self.hidden_size)).to(device) #hidden state\n",
    "        c_0 = Variable(torch.zeros(self.num_layers, x.size(0), self.hidden_size)).to(device) #internal state\n",
    "        # Propagate input through LSTM\n",
    "       \n",
    "        output, (hn, cn) = self.lstm(x, (h_0, c_0)) #lstm with input, hidden, and internal state\n",
    "       \n",
    "        hn = hn.view(-1, self.hidden_size) #reshaping the data for Dense layer next\n",
    "        out = self.relu(hn)\n",
    "        out = self.fc_1(out) #first Dense\n",
    "        out = self.relu(out) #relu\n",
    "        out = self.fc(out) #Final Output\n",
    "       \n",
    "        return out\n",
    "   \n",
    "from torch.autograd import Variable\n",
    "# check\n",
    "if __name__ == '__main__':\n",
    "    device = torch.device('cuda:0' if torch.cuda.is_available() else 'cpu')\n",
    "    x = torch.randn(3, 3, 224, 224).to(device)\n",
    "    input_size = 12 #number of features\n",
    "    hidden_size = 4 #number of features in hidden state\n",
    "    num_layers = 2 #number of stacked lstm layers\n",
    "\n",
    "    num_classes = 12 #number of output classes\n",
    "    lstm = LSTM(num_classes, input_size, hidden_size, num_layers, x).to(device)\n",
    "    model = efficientnet_b0().to(device)\n",
    "    model2 = nn.Sequential(\n",
    "        model,\n",
    "        lstm\n",
    "    )\n",
    "    output = model2(x)\n",
    "    print('output size:', output.size())"
   ]
  },
  {
   "cell_type": "code",
   "execution_count": 17,
   "metadata": {
    "id": "a1X1ZICfetfq",
    "pycharm": {
     "name": "#%%\n"
    }
   },
   "outputs": [],
   "source": [
    "# print model summary\n",
    "model = efficientnet_b0().to(device)\n",
    "#summary(model, (3,224,224), device=device.type)"
   ]
  },
  {
   "cell_type": "markdown",
   "metadata": {
    "id": "DYiTiNkJwS5p",
    "pycharm": {
     "name": "#%% md\n"
    }
   },
   "source": [
    "# 3. 학습하기"
   ]
  },
  {
   "cell_type": "code",
   "execution_count": 18,
   "metadata": {
    "id": "eUmVhxGImFsX",
    "pycharm": {
     "name": "#%%\n"
    }
   },
   "outputs": [],
   "source": [
    "# define loss function, optimizer, lr_scheduler\n",
    "#loss_func = nn.CrossEntropyLoss(reduction='sum')\n",
    "loss_func = nn.MSELoss(reduction='mean')\n",
    "opt = optim.Adam(model.parameters(), lr=0.01)\n",
    "\n",
    "from torch.optim.lr_scheduler import ReduceLROnPlateau\n",
    "lr_scheduler = ReduceLROnPlateau(opt, mode='min', factor=0.1, patience=10)\n",
    "\n",
    "\n",
    "# get current lr\n",
    "def get_lr(opt):\n",
    "    for param_group in opt.param_groups:\n",
    "        return param_group['lr']\n",
    "\n",
    "# this metric is for classification!\n",
    "# calculate the metric per mini-batch\n",
    "def metric_batch(output, target):\n",
    "    # original function returns number of correct classification\n",
    "    # by doing so, measures accuracy\n",
    "    # instead, calculate how close each value is to target value,\n",
    "    # check whether it is within some threshold\n",
    "    # and count number of items within the threshold\n",
    "    # threshold: parameter to fine-tune\n",
    "    correct_threshold = 0.01; #TODO change this?\n",
    "    \n",
    "    diff = abs(output - target)\n",
    "    corrects = torch.count_nonzero(diff.le(correct_threshold)).item()\n",
    "    #pred = output.argmax(1, keepdim=True) # index of max value in output\n",
    "    #corrects = pred.eq(target.view_as(pred)).sum().item()\n",
    "    return corrects\n",
    "\n",
    "\n",
    "# calculate the loss per mini-batch\n",
    "def loss_batch(loss_func, output, target, opt=None):\n",
    "    loss_b = loss_func(output, target).float()\n",
    "    metric_b = metric_batch(output, target)\n",
    "\n",
    "    if opt is not None:\n",
    "        opt.zero_grad()\n",
    "        loss_b.backward()\n",
    "        opt.step()\n",
    "    \n",
    "    return loss_b.item(), metric_b\n",
    "\n",
    "\n",
    "# calculate the loss per epochs\n",
    "def loss_epoch(model, loss_func, dataset_dl, sanity_check=False, opt=None):\n",
    "    running_loss = 0.0\n",
    "    running_metric = 0.0\n",
    "    len_data = len(dataset_dl.dataset)\n",
    "\n",
    "    for val in dataset_dl:\n",
    "        xb = val['image']\n",
    "        yb = torch.squeeze(val['hourly_rainfall']).float()\n",
    "        xb = xb.to(device).float()\n",
    "        yb = yb.to(device).float()\n",
    "        output = model(xb).float()\n",
    "        \n",
    "        assert(output.shape == yb.shape, \"shapes do not match!\")\n",
    "\n",
    "        loss_b, metric_b = loss_batch(loss_func, output, yb, opt)\n",
    "\n",
    "        running_loss += loss_b\n",
    "        \n",
    "        if metric_b is not None:\n",
    "            running_metric += metric_b\n",
    "\n",
    "        if sanity_check is True:\n",
    "            break\n",
    "\n",
    "    loss = running_loss / len_data\n",
    "    metric = running_metric / len_data\n",
    "    return loss, metric\n",
    "\n",
    "\n",
    "# function to start training\n",
    "def train_val(model, params):\n",
    "    num_epochs=params['num_epochs']\n",
    "    loss_func=params['loss_func']\n",
    "    opt=params['optimizer']\n",
    "    train_dl=params['train_dl']\n",
    "    val_dl=params['val_dl']\n",
    "    sanity_check=params['sanity_check']\n",
    "    lr_scheduler=params['lr_scheduler']\n",
    "    path2weights=params['path2weights']\n",
    "\n",
    "    loss_history = {'train': [], 'val': []}\n",
    "    metric_history = {'train': [], 'val': []}\n",
    "\n",
    "    best_loss = float('inf')\n",
    "    best_model_wts = copy.deepcopy(model.state_dict())\n",
    "    start_time = time.time()\n",
    "\n",
    "    for epoch in range(num_epochs):\n",
    "        current_lr = get_lr(opt)\n",
    "        print('Epoch {}/{}, current lr= {}'.format(epoch, num_epochs-1, current_lr))\n",
    "\n",
    "        model.train()\n",
    "        train_loss, train_metric = loss_epoch(model, loss_func, train_dl, sanity_check, opt)\n",
    "        loss_history['train'].append(train_loss)\n",
    "        metric_history['train'].append(train_metric)\n",
    "\n",
    "        model.eval()\n",
    "        with torch.no_grad():\n",
    "            val_loss, val_metric = loss_epoch(model, loss_func, val_dl, sanity_check)\n",
    "        loss_history['val'].append(val_loss)\n",
    "        metric_history['val'].append(val_metric)\n",
    "\n",
    "        if val_loss < best_loss:\n",
    "            best_loss = val_loss\n",
    "            best_model_wts = copy.deepcopy(model.state_dict())\n",
    "            torch.save(model.state_dict(), path2weights)\n",
    "            print('Copied best model weights!')\n",
    "\n",
    "        lr_scheduler.step(val_loss)\n",
    "        if current_lr != get_lr(opt):\n",
    "            print('Loading best model weights!')\n",
    "            model.load_state_dict(best_model_wts)\n",
    "\n",
    "        print('train loss: %.6f, val loss: %.6f, accuracy: %.2f, time: %.4f min' %(train_loss, val_loss, 100*val_metric, (time.time()-start_time)/60))\n",
    "        print('-'*10)\n",
    "\n",
    "    model.load_state_dict(best_model_wts)\n",
    "    return model, loss_history, metric_history"
   ]
  },
  {
   "cell_type": "code",
   "execution_count": 19,
   "metadata": {
    "id": "IsuU2EiLwZVz",
    "pycharm": {
     "name": "#%%\n"
    }
   },
   "outputs": [],
   "source": [
    "# define the training parameters\n",
    "params_train = {\n",
    "    'num_epochs':100,\n",
    "    'optimizer':opt,\n",
    "    'loss_func':loss_func,\n",
    "    'train_dl':train_dl,\n",
    "    'val_dl':val_dl,\n",
    "    'sanity_check':False,\n",
    "    'lr_scheduler':lr_scheduler,\n",
    "    'path2weights':'./models/weights.pt',\n",
    "}\n",
    "\n",
    "# check the directory to save weights.pt\n",
    "def createFolder(directory):\n",
    "    try:\n",
    "        if not os.path.exists(directory):\n",
    "            os.makedirs(directory)\n",
    "    except OSerror:\n",
    "        print('Error')\n",
    "#createFolder('/content/drive/MyDrive/data/models')"
   ]
  },
  {
   "cell_type": "code",
   "execution_count": null,
   "metadata": {
    "colab": {
     "base_uri": "https://localhost:8080/"
    },
    "id": "3yS8vS_wwbUG",
    "outputId": "35e0adec-70fa-4dea-b8cc-91acfba106fc",
    "pycharm": {
     "name": "#%%\n"
    }
   },
   "outputs": [
    {
     "name": "stdout",
     "output_type": "stream",
     "text": [
      "Epoch 0/99, current lr= 0.01\n",
      "train loss: nan, val loss: nan, accuracy: 0.00, time: 2.7232 min\n",
      "----------\n",
      "Epoch 1/99, current lr= 0.01\n",
      "train loss: nan, val loss: nan, accuracy: 0.00, time: 5.3136 min\n",
      "----------\n",
      "Epoch 2/99, current lr= 0.01\n"
     ]
    }
   ],
   "source": [
    "model, loss_hist, metric_hist = train_val(model, params_train)"
   ]
  },
  {
   "cell_type": "code",
   "execution_count": null,
   "metadata": {
    "id": "3v79XI6YxG_U",
    "outputId": "e66f47a1-04df-4cde-aa3e-c80b613f26a3",
    "pycharm": {
     "name": "#%%\n"
    }
   },
   "outputs": [],
   "source": [
    "num_epochs = params_train['num_epochs']\n",
    "\n",
    "# Plot train-val loss\n",
    "plt.title('Train-Val Loss')\n",
    "plt.plot(range(1, num_epochs+1), loss_hist['train'], label='train')\n",
    "plt.plot(range(1, num_epochs+1), loss_hist['val'], label='val')\n",
    "plt.ylabel('Loss')\n",
    "plt.xlabel('Training Epochs')\n",
    "plt.legend()\n",
    "plt.show()\n",
    "\n",
    "# plot train-val accuracy\n",
    "plt.title('Train-Val Accuracy')\n",
    "plt.plot(range(1, num_epochs+1), metric_hist['train'], label='train')\n",
    "plt.plot(range(1, num_epochs+1), metric_hist['val'], label='val')\n",
    "plt.ylabel('Accuracy')\n",
    "plt.xlabel('Training Epochs')\n",
    "plt.legend()\n",
    "plt.show()"
   ]
  },
  {
   "cell_type": "code",
   "execution_count": null,
   "metadata": {
    "id": "JfwTbLHqyS55",
    "pycharm": {
     "name": "#%%\n"
    }
   },
   "outputs": [],
   "source": []
  }
 ],
 "metadata": {
  "accelerator": "GPU",
  "colab": {
   "collapsed_sections": [],
   "machine_shape": "hm",
   "name": "ai-challenge 20211114.ipynb",
   "provenance": []
  },
  "kernelspec": {
   "display_name": "Python 3",
   "language": "python",
   "name": "python3"
  },
  "language_info": {
   "codemirror_mode": {
    "name": "ipython",
    "version": 3
   },
   "file_extension": ".py",
   "mimetype": "text/x-python",
   "name": "python",
   "nbconvert_exporter": "python",
   "pygments_lexer": "ipython3",
   "version": "3.6.5"
  }
 },
 "nbformat": 4,
 "nbformat_minor": 1
}